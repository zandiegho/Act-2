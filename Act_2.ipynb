{
 "cells": [
  {
   "cell_type": "code",
   "execution_count": 8,
   "metadata": {},
   "outputs": [
    {
     "name": "stdout",
     "output_type": "stream",
     "text": [
      "Si el punto inicial es Belen para llegar hasta Buenos Aires: Tomaría al rededor de 50.62 minutos\n",
      "Si el punto inicial es Buenos Aires para llegar hasta Laureles: Tomaría al rededor de 51.54 minutos\n",
      "Si el punto inicial es Laureles para llegar hasta Buenos Aires: Tomaría al rededor de 35.44 minutos\n",
      "Si el punto inicial es Buenos Aires para llegar hasta Belen: Tomaría al rededor de 28.40 minutos\n",
      "Si el punto inicial es Belen para llegar hasta Poblado: Tomaría al rededor de 33.76 minutos\n",
      "Si el punto inicial es Poblado para llegar hasta Buenos Aires: Tomaría al rededor de 32.67 minutos\n",
      "Si el punto inicial es Buenos Aires para llegar hasta Laureles: Tomaría al rededor de 51.01 minutos\n",
      "Si el punto inicial es Laureles para llegar hasta Buenos Aires: Tomaría al rededor de 50.96 minutos\n",
      "Si el punto inicial es Buenos Aires para llegar hasta Belen: Tomaría al rededor de 12.79 minutos\n",
      "Si el punto inicial es Belen para llegar hasta Laureles: Tomaría al rededor de 20.37 minutos\n"
     ]
    }
   ],
   "source": [
    "import numpy as np\n",
    "\n",
    "# Se definen los estados en un array (Los posibles destinos)\n",
    "destinos = ['Laureles', 'Poblado', 'Buenos Aires', 'Belen']\n",
    "\n",
    "# Creamos una Matriz para validar las probabilidades de transición \n",
    "# La matriz debe ser cuadrada y de la misma dimensión que el array de destinos\n",
    "\n",
    "P = np.array([[0.0, 0.4, 0.5, 0.1],\n",
    "              [0.2, 0.0, 0.5, 0.3],\n",
    "              [0.3, 0.3, 0.0, 0.4],\n",
    "              [0.35, 0.25, 0.40, 0]])\n",
    "\n",
    "# Cada fila de la matriz representa la probabilidad de pasar a otro lugar (estado) desde el estado actual\n",
    "# es decir: la fila 1 es el estado A (Laureles), la posibilidad de pasar al mismo lugar es de 0 y pasar al estado B (Poblado) es de 40% al C 50% y al estado D la probabilidad es del 10%\n",
    "\n",
    "# Los valores pueden ser ajustados a una matriz mas equitativa como la siguiente que permite una mayor disponibilidad de rutas\n",
    "\"\"\" P = np.array([[0.0, 0.33, 0.33, 0.34],\n",
    "              [0.33, 0.0, 0.33, 0.34],\n",
    "              [0.33, 0.33, 0.0, 0.34],\n",
    "              [0.33, 0.33, 0.34, 0.0]]) \"\"\"\n",
    "\n",
    "\n",
    "# Diccioneario con Tiempos de entrega o desplazamiento (media y desviación estándar para cada transición)\n",
    "tiempos = {\n",
    "    ('Laureles', 'Poblado'): (30, 5),\n",
    "    ('Laureles', 'Buenos Aires'): (45, 10),\n",
    "    ('Laureles', 'Belen'): (20, 8),\n",
    "    ('Poblado', 'Laureles'): (30, 5),\n",
    "    ('Poblado', 'Buenos Aires'): (30, 10),\n",
    "    ('Poblado', 'Belen'): (35, 10),\n",
    "    ('Buenos Aires', 'Laureles'): (45, 10),\n",
    "    ('Buenos Aires', 'Poblado'): (35, 10),\n",
    "    ('Buenos Aires', 'Belen'): (50, 15),\n",
    "    ('Belen', 'Laureles'): (25, 5),\n",
    "    ('Belen', 'Poblado'): (30, 6),\n",
    "    ('Belen', 'Buenos Aires'): (45, 7)\n",
    "}\n",
    "\n",
    "# Los tiempos se miden en media (que es el valor de media que toma el trayecto y la desviación en minutos por distintos temas)\n",
    "# ej: el trayectp de Laureles al poblado toma una media de 30 minutos con una desviacion estadar de 5 minutos ('Laureles', 'Poblado'): (30, 5)\n",
    "# # Los tiempos pueden ser ajustados\n",
    "\n",
    "# Simulación de el desplazamiento del mensajero y la entrega de paquetes\n",
    "def simular_entrega(n_entregas):\n",
    "    #np.random.seed(1)  # Con Esta semilla se garantiza la reproducibilidad para pruebas y validaciones ya que siempre resultaría en el mismo valor cuantas veces se ejecute.\n",
    "    np.random  # Valores Ramdon en destinos y tiempos \n",
    "    resultados = [] # almacena los resultados en una lista\n",
    "    estado_actual = np.random.choice(destinos) #Almacena un destino (Estado) como estado actual\n",
    "    \n",
    "    \n",
    "    #Iteracion sobre las entregas\n",
    "    for _ in range(n_entregas):\n",
    "        # Selección del siguiente estado basado en probabilidades de transición válidadas \n",
    "        siguiente_estado = np.random.choice(destinos, p=P[destinos.index(estado_actual)])\n",
    "        \n",
    "        while (estado_actual, siguiente_estado) not in tiempos:\n",
    "           siguiente_estado = np.random.choice(destinos, p=P[destinos.index(estado_actual)])\n",
    "        \n",
    "        tiempo_medio, desviacion = tiempos[(estado_actual, siguiente_estado)]\n",
    "        tiempo_entrega = np.random.normal(tiempo_medio, desviacion)\n",
    "        resultados.append((estado_actual, siguiente_estado, tiempo_entrega))\n",
    "        estado_actual = siguiente_estado\n",
    "    \n",
    "    return resultados\n",
    "\n",
    "# Ejecutar la simulación con un total de 10 entregas, se peude ajustar tambien\n",
    "resultados = simular_entrega(10)\n",
    "for result in resultados:\n",
    "    print(f\"Si el punto inicial es {result[0]} para llegar hasta {result[1]}: Tomaría al rededor de {result[2]:.2f} minutos\")\n"
   ]
  },
  {
   "cell_type": "code",
   "execution_count": null,
   "metadata": {},
   "outputs": [],
   "source": []
  }
 ],
 "metadata": {
  "kernelspec": {
   "display_name": "Python 3",
   "language": "python",
   "name": "python3"
  },
  "language_info": {
   "codemirror_mode": {
    "name": "ipython",
    "version": 3
   },
   "file_extension": ".py",
   "mimetype": "text/x-python",
   "name": "python",
   "nbconvert_exporter": "python",
   "pygments_lexer": "ipython3",
   "version": "3.12.3"
  }
 },
 "nbformat": 4,
 "nbformat_minor": 2
}
